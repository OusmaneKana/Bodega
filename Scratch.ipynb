{
 "cells": [
  {
   "cell_type": "code",
   "execution_count": 67,
   "metadata": {},
   "outputs": [],
   "source": [
    "import pandas as pd \n",
    "data = pd.read_excel('C:\\\\Users\\\\Ousmane Kana\\\\Desktop\\\\Bodega\\\\sbler-Copy.xlsx', header=None)\n",
    "\n",
    "ID =data[0].tolist()\n"
   ]
  },
  {
   "cell_type": "code",
   "execution_count": 68,
   "metadata": {},
   "outputs": [],
   "source": [
    "\n",
    "\n",
    "\n",
    "def read_csv(name):\n",
    "    \n",
    "    data = pd.read_csv(\"C:\\\\Users\\\\Ousmane Kana\\\\Desktop\\\\Bodega\\\\dataBase\\\\\"+str(name)+\".csv\")\n",
    "    Model_Numbers = data['Model Numbers'].values.tolist()\n",
    "    SKU =  data['SKU'].values.tolist()\n",
    "    #print(Model_Numbers)\n",
    "    \n",
    "    return(SKU)\n",
    "\n",
    "\n",
    "\n"
   ]
  },
  {
   "cell_type": "code",
   "execution_count": null,
   "metadata": {},
   "outputs": [],
   "source": []
  },
  {
   "cell_type": "code",
   "execution_count": 69,
   "metadata": {},
   "outputs": [],
   "source": [
    "def LinkMaker(ID):\n",
    "    links= []\n",
    "    \n",
    "    for models in read_csv(ID):\n",
    "        link = (\"www.homedepot.com/s/\"+str(models))\n",
    "        links.append(link)\n",
    "    \n",
    "    return(links)\n"
   ]
  },
  {
   "cell_type": "code",
   "execution_count": 70,
   "metadata": {},
   "outputs": [],
   "source": [
    "Links = map(LinkMaker, ID)"
   ]
  },
  {
   "cell_type": "code",
   "execution_count": 71,
   "metadata": {},
   "outputs": [],
   "source": [
    "Link = list(Links)\n",
    "flat_list = [item for sublist in Link for item in sublist]"
   ]
  },
  {
   "cell_type": "code",
   "execution_count": 72,
   "metadata": {},
   "outputs": [
    {
     "data": {
      "text/plain": [
       "['www.homedepot.com/s/1000552674',\n",
       " 'www.homedepot.com/s/1002084995',\n",
       " 'www.homedepot.com/s/1001406724',\n",
       " 'www.homedepot.com/s/1002636539',\n",
       " 'www.homedepot.com/s/1000521261']"
      ]
     },
     "execution_count": 72,
     "metadata": {},
     "output_type": "execute_result"
    }
   ],
   "source": [
    "flat_list[0:5]"
   ]
  },
  {
   "cell_type": "code",
   "execution_count": null,
   "metadata": {},
   "outputs": [],
   "source": []
  },
  {
   "cell_type": "code",
   "execution_count": null,
   "metadata": {},
   "outputs": [],
   "source": []
  },
  {
   "cell_type": "code",
   "execution_count": null,
   "metadata": {},
   "outputs": [],
   "source": []
  },
  {
   "cell_type": "code",
   "execution_count": null,
   "metadata": {},
   "outputs": [],
   "source": []
  },
  {
   "cell_type": "code",
   "execution_count": null,
   "metadata": {},
   "outputs": [],
   "source": []
  }
 ],
 "metadata": {
  "kernelspec": {
   "display_name": "Python 3",
   "language": "python",
   "name": "python3"
  },
  "language_info": {
   "codemirror_mode": {
    "name": "ipython",
    "version": 3
   },
   "file_extension": ".py",
   "mimetype": "text/x-python",
   "name": "python",
   "nbconvert_exporter": "python",
   "pygments_lexer": "ipython3",
   "version": "3.6.8"
  }
 },
 "nbformat": 4,
 "nbformat_minor": 4
}
